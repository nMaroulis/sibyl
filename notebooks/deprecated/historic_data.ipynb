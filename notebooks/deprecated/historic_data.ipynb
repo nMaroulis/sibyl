{
 "cells": [
  {
   "cell_type": "code",
   "id": "initial_id",
   "metadata": {
    "collapsed": true
   },
   "source": [
    "import requests\n"
   ],
   "outputs": [],
   "execution_count": null
  },
  {
   "cell_type": "code",
   "source": [
    "def get_coin_full_name():\n",
    "    url = \"https://api.coincap.io/v2/assets\"\n",
    "    response = requests.get(url)\n",
    "    coin_dict = {}\n",
    "    if response.status_code == 200:\n",
    "        data = response.json()\n",
    "        assets = data.get('data', [])\n",
    "        for asset in assets:\n",
    "            coin_dict[asset['symbol']] = asset['name']\n",
    "    return  coin_dict\n",
    "\n",
    "coin_dict = get_coin_full_name()\n",
    "l = ['ETH', 'BTC', 'LTC', 'XRP', 'JJJ', 'EOS', 'EOSBTC']\n",
    "\n",
    "for i in l:\n",
    "    if i in coin_dict.keys():\n",
    "        if coin_dict[i] != i:\n",
    "            print(coin_dict[i])\n",
    "\n",
    "# \n",
    "# print(get_coin_full_name(\"ASTR\"))"
   ],
   "metadata": {
    "collapsed": false
   },
   "id": "9ea98633724ab5aa",
   "outputs": [],
   "execution_count": null
  },
  {
   "cell_type": "code",
   "source": [
    "def get_all_coins():\n",
    "    url = \"https://api.coingecko.com/api/v3/coins/list\"\n",
    "    response = requests.get(url)\n",
    "    if response.status_code == 200:\n",
    "        data = response.json()\n",
    "        coins_dict = {coin['symbol'].upper(): coin['name'] for coin in data}\n",
    "        return coins_dict\n",
    "    else:\n",
    "        print(\"Failed to fetch data from CoinGecko API\")\n",
    "        return {}\n",
    "\n",
    "import json\n",
    "\n",
    "all_coins= get_all_coins()\n",
    "print(all_coins)\n",
    "all_coins = get_all_coins()\n",
    "with open(\"coin_name_dict.json\", \"w\") as f:\n",
    "    json.dump(all_coins, f, indent=4)\n"
   ],
   "metadata": {
    "collapsed": false
   },
   "id": "4ba8569f9fe3d6f8",
   "outputs": [],
   "execution_count": null
  },
  {
   "cell_type": "code",
   "source": [
    "print(all_coins['ADA'])"
   ],
   "metadata": {
    "collapsed": false
   },
   "id": "372f9ced591b9963",
   "outputs": [],
   "execution_count": null
  },
  {
   "cell_type": "code",
   "source": [
    "def get_all_coins():\n",
    "    url = \"https://api.coingecko.com/api/v3/coins/list\"\n",
    "    response = requests.get(url)\n",
    "    if response.status_code == 200:\n",
    "        data = response.json()\n",
    "        coins_dict = {}\n",
    "        duplicates = {}\n",
    "        for coin in data:\n",
    "            symbol = coin['symbol'].upper()\n",
    "            name = coin['name']\n",
    "            if symbol in coins_dict:\n",
    "                if symbol not in duplicates:\n",
    "                    duplicates[symbol] = [coins_dict[symbol], name]\n",
    "                else:\n",
    "                    duplicates[symbol].append(name)\n",
    "            else:\n",
    "                coins_dict[symbol] = name\n",
    "        if duplicates:\n",
    "            print(\"Duplicates:\")\n",
    "            for symbol, names in duplicates.items():\n",
    "                print(f\"Symbol: {symbol}, Names: {', '.join(names)}\")\n",
    "        return coins_dict\n",
    "    else:\n",
    "        print(\"Failed to fetch data from CoinGecko API\")\n",
    "        return {}\n",
    "\n",
    "all_coins = get_all_coins()"
   ],
   "metadata": {
    "collapsed": false
   },
   "id": "39d05c92d2451441",
   "outputs": [],
   "execution_count": null
  }
 ],
 "metadata": {
  "kernelspec": {
   "display_name": "Python 3",
   "language": "python",
   "name": "python3"
  },
  "language_info": {
   "codemirror_mode": {
    "name": "ipython",
    "version": 2
   },
   "file_extension": ".py",
   "mimetype": "text/x-python",
   "name": "python",
   "nbconvert_exporter": "python",
   "pygments_lexer": "ipython2",
   "version": "2.7.6"
  }
 },
 "nbformat": 4,
 "nbformat_minor": 5
}
