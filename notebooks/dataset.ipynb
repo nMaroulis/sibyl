{
 "cells": [
  {
   "cell_type": "code",
   "id": "initial_id",
   "metadata": {
    "collapsed": true
   },
   "source": [
    "import pandas as pd\n",
    "import yfinance as yf\n",
    "import requests\n",
    "from datetime import datetime\n",
    "\n",
    "\n",
    "def get_bitcoin_prices(start_date, end_date):\n",
    "    bitcoin = yf.download('BTC-USD', start=start_date, end=end_date)\n",
    "    print(bitcoin.head())\n",
    "    bitcoin['bitcoin_price'] = bitcoin['Close'] # old Adj Close\n",
    "    return bitcoin[['bitcoin_price']]\n",
    "\n",
    "def get_sp500_prices(start_date, end_date):\n",
    "    sp500 = yf.download('^GSPC', start=start_date, end=end_date)\n",
    "    sp500['sp500_price'] = sp500['Close']\n",
    "    return sp500[['sp500_price']]\n",
    "\n",
    "def get_gold_prices(start_date, end_date):\n",
    "    gold = yf.download('GC=F', start=start_date, end=end_date)\n",
    "    gold['gold_price'] = gold['Close']\n",
    "    return gold[['gold_price']]\n",
    "\n",
    "def get_usd_index(start_date, end_date):\n",
    "    usd_index = yf.download('DX-Y.NYB', start=start_date, end=end_date)\n",
    "    usd_index['usd_index'] = usd_index['Close']\n",
    "    return usd_index[['usd_index']]\n",
    "\n",
    "def get_volatility_index(start_date, end_date):\n",
    "    vol_index = yf.download('^VIX', start=start_date, end=end_date)\n",
    "    vol_index['volatility_index'] = vol_index['Close']\n",
    "    return vol_index[['volatility_index']]\n",
    "\n",
    "def get_interest_rates(start_date, end_date):\n",
    "    irx = yf.download('^IRX', start=start_date, end=end_date)\n",
    "    irx['interest_rate'] = irx['Close']\n",
    "    return irx[['interest_rate']]\n",
    "\n",
    "def get_oil_prices(start_date, end_date):\n",
    "    oil = yf.download('CL=F', start=start_date, end=end_date)\n",
    "    oil['oil_price'] = oil['Close']\n",
    "    return oil[['oil_price']]\n",
    "\n",
    "\n",
    "# Specify the date range for the dataset\n",
    "start_date = '2014-09-17'\n",
    "end_date = datetime.today().strftime('%Y-%m-%d')\n",
    "\n",
    "def get_dataset(start_date, end_date, interval):\n",
    "    btc_prices = get_bitcoin_prices(start_date, end_date)\n",
    "    sp500_prices = get_sp500_prices(start_date, end_date)\n",
    "    gold_prices = get_gold_prices(start_date, end_date)\n",
    "    usd_index_prices = get_usd_index(start_date, end_date)\n",
    "    oil_prices = get_oil_prices(start_date, end_date)\n",
    "    vol_index = get_volatility_index(start_date, end_date)\n",
    "    interest_rates = get_interest_rates(start_date, end_date)\n",
    "    dataset = btc_prices.join([sp500_prices, gold_prices, usd_index_prices, oil_prices, vol_index, interest_rates], how='outer')\n",
    "    \n",
    "    print(dataset.isna().sum())\n",
    "    dataset.ffill(inplace=True)\n",
    "    dataset.dropna(inplace=True)\n",
    "    dataset.index = pd.to_datetime(dataset.index, utc=True)\n",
    "    dataset.index = dataset.index.date\n",
    "    return dataset\n",
    "\n",
    "# dataset.to_csv('training_datasets/bitcoin_prediction_dataset.csv')\n",
    "dataset = get_dataset(start_date, end_date, '1d')\n",
    "dataset.head(100)"
   ],
   "outputs": [],
   "execution_count": null
  },
  {
   "metadata": {},
   "cell_type": "code",
   "source": [
    "dataset.reset_index(drop=True, inplace=True)\n",
    "dataset.head(100)"
   ],
   "id": "519df29bb9d3041d",
   "outputs": [],
   "execution_count": null
  },
  {
   "metadata": {},
   "cell_type": "code",
   "source": [
    "# export to csv\n",
    "dataset.to_csv('training_datasets/bitcoin_prediction_dataset.csv')"
   ],
   "id": "c85e37c1a66fa357",
   "outputs": [],
   "execution_count": null
  },
  {
   "metadata": {},
   "cell_type": "code",
   "source": "df = pd.read_csv('training_datasets/bitcoin_prediction_dataset.csv')",
   "id": "dc63ae038b72fd30",
   "outputs": [],
   "execution_count": null
  },
  {
   "metadata": {},
   "cell_type": "code",
   "source": "",
   "id": "3c7eb9166371fc3d",
   "outputs": [],
   "execution_count": null
  },
  {
   "metadata": {},
   "cell_type": "code",
   "source": [
    "start_date = '2024-10-10'\n",
    "end_date = datetime.today().strftime('%Y-%m-%d')\n",
    "df = pd.DataFrame()\n",
    "bitcoin = yf.download('BTC-USD', start=start_date, end=end_date)\n",
    "df['bitcoin_price'] = bitcoin['Adj Close']\n",
    "sp500 = yf.download('^GSPC', start=start_date, end=end_date)\n",
    "df['sp500_price'] = sp500['Adj Close']\n",
    "gold = yf.download('GC=F', start=start_date, end=end_date)\n",
    "df['gold_price'] = gold['Adj Close']\n",
    "usd_index = yf.download('DX-Y.NYB', start=start_date, end=end_date)\n",
    "df['usd_index'] = usd_index['Adj Close']\n",
    "vol_index = yf.download('^VIX', start=start_date, end=end_date)\n",
    "df['volatility_index'] = vol_index['Adj Close']\n",
    "irx = yf.download('^IRX', start=start_date, end=end_date)\n",
    "df['interest_rate'] = irx['Adj Close']\n",
    "oil = yf.download('CL=F', start=start_date, end=end_date)\n",
    "df['oil_price'] = oil['Adj Close']\n",
    "\n",
    "# dataset = bitcoin[['bitcoin_price']].join([sp500[['sp500_price']], gold_prices, usd_index_prices, oil_prices, vol_index, interest_rates], how='outer')\n",
    "df.ffill(inplace=True)\n",
    "df.dropna(inplace=True)\n",
    "# df.index = pd.to_datetime(dataset.index, utc=True)\n",
    "#df.index = dataset.index.date\n",
    "df.head()"
   ],
   "id": "82a799b9e793b473",
   "outputs": [],
   "execution_count": null
  }
 ],
 "metadata": {
  "kernelspec": {
   "display_name": "Python 3",
   "language": "python",
   "name": "python3"
  },
  "language_info": {
   "codemirror_mode": {
    "name": "ipython",
    "version": 2
   },
   "file_extension": ".py",
   "mimetype": "text/x-python",
   "name": "python",
   "nbconvert_exporter": "python",
   "pygments_lexer": "ipython2",
   "version": "2.7.6"
  }
 },
 "nbformat": 4,
 "nbformat_minor": 5
}
