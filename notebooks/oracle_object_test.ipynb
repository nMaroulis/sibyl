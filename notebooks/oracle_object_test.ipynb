{
 "cells": [
  {
   "cell_type": "code",
   "id": "initial_id",
   "metadata": {
    "collapsed": true,
    "ExecuteTime": {
     "end_time": "2024-11-10T23:35:08.870128Z",
     "start_time": "2024-11-10T23:35:08.857891Z"
    }
   },
   "source": [
    "import pandas as pd\n",
    "from tensorflow.keras.models import load_model\n",
    "import yfinance as yf\n",
    "from pickle import load\n",
    "from datetime import datetime, timedelta\n",
    "from numpy import array as np_array, concatenate, zeros\n",
    "\n",
    "\n",
    "MODEL_PATH = \"/Users/nik/PycharmProjects/sibyl/backend/src/oracle/models/oracle_v0.1.keras\"\n",
    "SCALER_PATH = \"/Users/nik/PycharmProjects/sibyl/backend/src/oracle/preprocessing/minmax_scaler-7f.pkl\"\n",
    "\n",
    "\n",
    "class Oracle:\n",
    "    def __init__(self):\n",
    "        self.lookback = 60  # days\n",
    "        self.forecast_horizon = 7  # days\n",
    "        self.model = load_model(MODEL_PATH)\n",
    "        self.scaler = load(open(SCALER_PATH, 'rb'))\n",
    "        self.dataset = pd.DataFrame()\n",
    "        self.model_input = None\n",
    "        self.current_btc_price = None\n",
    "        \n",
    "        \n",
    "    def fetch_dataset(self):\n",
    "\n",
    "        start_date = (datetime.today() - timedelta(days=self.lookback)).strftime('%Y-%m-%d')\n",
    "        end_date = datetime.today().strftime('%Y-%m-%d')\n",
    "\n",
    "        bitcoin = yf.download('BTC-USD', start=start_date, end=end_date)\n",
    "        self.dataset['bitcoin_price'] = bitcoin['Adj Close']\n",
    "        self.current_btc_price = self.dataset['bitcoin_price'].values\n",
    "        sp500 = yf.download('^GSPC', start=start_date, end=end_date)\n",
    "        self.dataset['sp500_price'] = sp500['Adj Close']\n",
    "        gold = yf.download('GC=F', start=start_date, end=end_date)\n",
    "        self.dataset['gold_price'] = gold['Adj Close']\n",
    "        usd_index = yf.download('DX-Y.NYB', start=start_date, end=end_date)\n",
    "        self.dataset['usd_index'] = usd_index['Adj Close']\n",
    "        vol_index = yf.download('^VIX', start=start_date, end=end_date)\n",
    "        self.dataset['volatility_index'] = vol_index['Adj Close']\n",
    "        irx = yf.download('^IRX', start=start_date, end=end_date)\n",
    "        self.dataset['interest_rate'] = irx['Adj Close']\n",
    "        oil = yf.download('CL=F', start=start_date, end=end_date)\n",
    "        self.dataset['oil_price'] = oil['Adj Close']\n",
    "\n",
    "        self.dataset.ffill(inplace=True)\n",
    "        self.dataset.dropna(inplace=True)\n",
    "\n",
    "    def dataset_preprocessing(self):\n",
    "        self.dataset = self.scaler.transform(self.dataset[['bitcoin_price', 'sp500_price', 'gold_price', 'usd_index', 'oil_price',\n",
    "                                               'volatility_index', 'interest_rate']])\n",
    "        \n",
    "    def create_model_input(self):            \n",
    "        self.model_input = self.dataset.reshape(1, self.lookback, self.dataset.shape[1])\n",
    "    \n",
    "    def generate_model_prediction(self):\n",
    "        y_pred = self.model.predict(self.model_input)\n",
    "        dummy_2d_array = zeros((self.forecast_horizon, 7))\n",
    "        dummy_2d_array[:, 0] = y_pred[0]\n",
    "        rescaled_2d_array = self.scaler.inverse_transform(dummy_2d_array)\n",
    "        return rescaled_2d_array[:, 0]\n",
    "    \n",
    "    def generate_btc_prediction(self):\n",
    "        self.fetch_dataset()\n",
    "        self.dataset_preprocessing()\n",
    "        self.create_model_input()\n",
    "        y_pred = self.generate_model_prediction()\n",
    "        return self.current_btc_price, y_pred"
   ],
   "outputs": [],
   "execution_count": 33
  },
  {
   "metadata": {
    "ExecuteTime": {
     "end_time": "2024-11-10T23:35:13.587961Z",
     "start_time": "2024-11-10T23:35:12.467422Z"
    }
   },
   "cell_type": "code",
   "source": [
    "client = Oracle()\n",
    "a = client.generate_btc_prediction()\n",
    "print(a)"
   ],
   "id": "9f2c025f6146ce84",
   "outputs": [
    {
     "name": "stderr",
     "output_type": "stream",
     "text": [
      "[*********************100%***********************]  1 of 1 completed\n",
      "[*********************100%***********************]  1 of 1 completed\n",
      "[*********************100%***********************]  1 of 1 completed\n",
      "[*********************100%***********************]  1 of 1 completed\n",
      "[*********************100%***********************]  1 of 1 completed\n",
      "[*********************100%***********************]  1 of 1 completed\n",
      "[*********************100%***********************]  1 of 1 completed\n"
     ]
    },
    {
     "name": "stdout",
     "output_type": "stream",
     "text": [
      "\u001B[1m1/1\u001B[0m \u001B[32m━━━━━━━━━━━━━━━━━━━━\u001B[0m\u001B[37m\u001B[0m \u001B[1m0s\u001B[0m 253ms/step\n",
      "(array([58127.01171875, 60571.30078125, 60005.12109375, 59182.8359375 ,\n",
      "       58192.5078125 , 60308.5390625 , 61649.6796875 , 62940.45703125,\n",
      "       63192.9765625 , 63394.83984375, 63648.7109375 , 63329.80078125,\n",
      "       64301.96875   , 63143.14453125, 65181.01953125, 65790.6640625 ,\n",
      "       65887.6484375 , 65635.3046875 , 63329.5       , 60837.0078125 ,\n",
      "       60632.78515625, 60759.40234375, 62067.4765625 , 62089.94921875,\n",
      "       62818.953125  , 62236.66015625, 62131.96875   , 60582.1015625 ,\n",
      "       60274.5       , 62445.08984375, 63193.0234375 , 62851.375     ,\n",
      "       66046.125     , 67041.109375  , 67612.71875   , 67399.8359375 ,\n",
      "       68418.7890625 , 68362.734375  , 69001.703125  , 67367.8515625 ,\n",
      "       67361.40625   , 66432.1953125 , 68161.0546875 , 66642.4140625 ,\n",
      "       67014.6953125 , 67929.296875  , 69907.7578125 , 72720.4921875 ,\n",
      "       72339.5390625 , 70215.1875    , 69482.46875   , 69289.2734375 ,\n",
      "       68741.1171875 , 67811.5078125 , 69359.5625    , 75639.078125  ,\n",
      "       75904.859375  , 76545.4765625 , 76778.8671875 , 80325.9609375 ]), array([68271.65758327, 67554.35364809, 67167.45559797, 67346.02252395,\n",
      "       67257.84854097, 67839.23432684, 67079.13551063]))\n"
     ]
    }
   ],
   "execution_count": 34
  },
  {
   "metadata": {
    "ExecuteTime": {
     "end_time": "2024-11-10T23:36:31.369493Z",
     "start_time": "2024-11-10T23:36:31.363056Z"
    }
   },
   "cell_type": "code",
   "source": [
    "b = list(a[0]) + list(a[1])\n",
    "print(b)"
   ],
   "id": "c878434f520c9587",
   "outputs": [
    {
     "name": "stdout",
     "output_type": "stream",
     "text": [
      "[58127.01171875, 60571.30078125, 60005.12109375, 59182.8359375, 58192.5078125, 60308.5390625, 61649.6796875, 62940.45703125, 63192.9765625, 63394.83984375, 63648.7109375, 63329.80078125, 64301.96875, 63143.14453125, 65181.01953125, 65790.6640625, 65887.6484375, 65635.3046875, 63329.5, 60837.0078125, 60632.78515625, 60759.40234375, 62067.4765625, 62089.94921875, 62818.953125, 62236.66015625, 62131.96875, 60582.1015625, 60274.5, 62445.08984375, 63193.0234375, 62851.375, 66046.125, 67041.109375, 67612.71875, 67399.8359375, 68418.7890625, 68362.734375, 69001.703125, 67367.8515625, 67361.40625, 66432.1953125, 68161.0546875, 66642.4140625, 67014.6953125, 67929.296875, 69907.7578125, 72720.4921875, 72339.5390625, 70215.1875, 69482.46875, 69289.2734375, 68741.1171875, 67811.5078125, 69359.5625, 75639.078125, 75904.859375, 76545.4765625, 76778.8671875, 80325.9609375, 68271.65758326987, 67554.35364808922, 67167.45559797449, 67346.02252394703, 67257.84854096617, 67839.2343268429, 67079.13551063077]\n"
     ]
    }
   ],
   "execution_count": 38
  },
  {
   "metadata": {
    "ExecuteTime": {
     "end_time": "2024-11-10T16:47:41.550630Z",
     "start_time": "2024-11-10T16:47:41.340743Z"
    }
   },
   "cell_type": "code",
   "source": [
    "import matplotlib.pyplot as plt\n",
    "plt.plot(a[1])"
   ],
   "id": "4349226eb04c866",
   "outputs": [
    {
     "data": {
      "text/plain": [
       "[<matplotlib.lines.Line2D at 0x1364e5280>]"
      ]
     },
     "execution_count": 31,
     "metadata": {},
     "output_type": "execute_result"
    },
    {
     "data": {
      "text/plain": [
       "<Figure size 640x480 with 1 Axes>"
      ],
      "image/png": "[encoded data removed]"
     },
     "metadata": {},
     "output_type": "display_data"
    }
   ],
   "execution_count": 31
  },
  {
   "metadata": {
    "ExecuteTime": {
     "end_time": "2024-11-11T00:35:54.557693Z",
     "start_time": "2024-11-11T00:35:54.526585Z"
    }
   },
   "cell_type": "code",
   "source": [
    "\n",
    "# Generate the list of dictionaries with date and price\n",
    "result = []\n",
    "time_diff = len(b)\n",
    "for i, price in enumerate(b):\n",
    "    result.append({\"date\": (datetime.today() - timedelta(days=time_diff)).strftime('%Y-%m-%d'), \"price\": price})\n",
    "    time_diff -= 1\n",
    "\n",
    "# Generate the list of date and price data\n",
    "import plotly.graph_objects as go\n",
    "\n",
    "# Convert to a DataFrame for Plotly\n",
    "df = pd.DataFrame(result)\n",
    "\n",
    "fig = go.Figure()\n",
    "\n",
    "# Plot actual data\n",
    "fig.add_trace(go.Scatter(x=df[0:60]['date'], y=df[0:60]['price'],\n",
    "                         mode='lines', name='Actual',\n",
    "                         line=dict(color='blue', width=2)))\n",
    "\n",
    "# Plot predicted data\n",
    "fig.add_trace(go.Scatter(x=df[59:-1]['date'], y=df[59:-1]['price'],\n",
    "                         mode='lines+markers', name='Prediction',\n",
    "                         line=dict(color='rgba(255, 165, 0, 0.8)', width=2, shape='spline'),  # Smooth curve with transparency\n",
    "                         marker=dict(size=6, color='orange', symbol='circle', line=dict(width=2, color='black')),\n",
    "                         fill='tonexty', fillcolor='rgba(255, 165, 0, 0.2)'))  # Gradient-like effect\n",
    "\n",
    "\n",
    "# Update layout\n",
    "fig.update_layout(\n",
    "    title='Price and Oracle Prediction',\n",
    "    xaxis_title='Date',\n",
    "    yaxis_title='Price',\n",
    "    xaxis_tickangle=-45,\n",
    "    hovermode='closest'  # Smooth hover interaction\n",
    ")\n",
    "\n",
    "# Show the plot\n",
    "fig.show()"
   ],
   "id": "2c91e088d90f05e8",
   "outputs": [
    {
     "data": {
      "application/vnd.plotly.v1+json": {
       "data": [
        {
         "line": {
          "color": "blue",
          "width": 2
         },
         "mode": "lines",
         "name": "Actual",
         "x": [
          "2024-09-05",
          "2024-09-06",
          "2024-09-07",
          "2024-09-08",
          "2024-09-09",
          "2024-09-10",
          "2024-09-11",
          "2024-09-12",
          "2024-09-13",
          "2024-09-14",
          "2024-09-15",
          "2024-09-16",
          "2024-09-17",
          "2024-09-18",
          "2024-09-19",
          "2024-09-20",
          "2024-09-21",
          "2024-09-22",
          "2024-09-23",
          "2024-09-24",
          "2024-09-25",
          "2024-09-26",
          "2024-09-27",
          "2024-09-28",
          "2024-09-29",
          "2024-09-30",
          "2024-10-01",
          "2024-10-02",
          "2024-10-03",
          "2024-10-04",
          "2024-10-05",
          "2024-10-06",
          "2024-10-07",
          "2024-10-08",
          "2024-10-09",
          "2024-10-10",
          "2024-10-11",
          "2024-10-12",
          "2024-10-13",
          "2024-10-14",
          "2024-10-15",
          "2024-10-16",
          "2024-10-17",
          "2024-10-18",
          "2024-10-19",
          "2024-10-20",
          "2024-10-21",
          "2024-10-22",
          "2024-10-23",
          "2024-10-24",
          "2024-10-25",
          "2024-10-26",
          "2024-10-27",
          "2024-10-28",
          "2024-10-29",
          "2024-10-30",
          "2024-10-31",
          "2024-11-01",
          "2024-11-02",
          "2024-11-03"
         ],
         "y": [
          58127.01171875,
          60571.30078125,
          60005.12109375,
          59182.8359375,
          58192.5078125,
          60308.5390625,
          61649.6796875,
          62940.45703125,
          63192.9765625,
          63394.83984375,
          63648.7109375,
          63329.80078125,
          64301.96875,
          63143.14453125,
          65181.01953125,
          65790.6640625,
          65887.6484375,
          65635.3046875,
          63329.5,
          60837.0078125,
          60632.78515625,
          60759.40234375,
          62067.4765625,
          62089.94921875,
          62818.953125,
          62236.66015625,
          62131.96875,
          60582.1015625,
          60274.5,
          62445.08984375,
          63193.0234375,
          62851.375,
          66046.125,
          67041.109375,
          67612.71875,
          67399.8359375,
          68418.7890625,
          68362.734375,
          69001.703125,
          67367.8515625,
          67361.40625,
          66432.1953125,
          68161.0546875,
          66642.4140625,
          67014.6953125,
          67929.296875,
          69907.7578125,
          72720.4921875,
          72339.5390625,
          70215.1875,
          69482.46875,
          69289.2734375,
          68741.1171875,
          67811.5078125,
          69359.5625,
          75639.078125,
          75904.859375,
          76545.4765625,
          76778.8671875,
          80325.9609375
         ],
         "type": "scatter"
        },
        {
         "fill": "tonexty",
         "fillcolor": "rgba(255, 165, 0, 0.2)",
         "line": {
          "color": "rgba(255, 165, 0, 0.8)",
          "shape": "spline",
          "width": 2
         },
         "marker": {
          "color": "orange",
          "line": {
           "color": "black",
           "width": 2
          },
          "size": 6,
          "symbol": "circle"
         },
         "mode": "lines+markers",
         "name": "Prediction",
         "x": [
          "2024-11-03",
          "2024-11-04",
          "2024-11-05",
          "2024-11-06",
          "2024-11-07",
          "2024-11-08",
          "2024-11-09"
         ],
         "y": [
          80325.9609375,
          68271.65758326987,
          67554.35364808922,
          67167.45559797449,
          67346.02252394703,
          67257.84854096617,
          67839.2343268429
         ],
         "type": "scatter"
        }
       ],
       "layout": {
        "template": {
         "data": {
          "histogram2dcontour": [
           {
            "type": "histogram2dcontour",
            "colorbar": {
             "outlinewidth": 0,
             "ticks": ""
            },
            "colorscale": [
             [
              0.0,
              "#0d0887"
             ],
             [
              0.1111111111111111,
              "#46039f"
             ],
             [
              0.2222222222222222,
              "#7201a8"
             ],
             [
              0.3333333333333333,
              "#9c179e"
             ],
             [
              0.4444444444444444,
              "#bd3786"
             ],
             [
              0.5555555555555556,
              "#d8576b"
             ],
             [
              0.6666666666666666,
              "#ed7953"
             ],
             [
              0.7777777777777778,
              "#fb9f3a"
             ],
             [
              0.8888888888888888,
              "#fdca26"
             ],
             [
              1.0,
              "#f0f921"
             ]
            ]
           }
          ],
          "choropleth": [
           {
            "type": "choropleth",
            "colorbar": {
             "outlinewidth": 0,
             "ticks": ""
            }
           }
          ],
          "histogram2d": [
           {
            "type": "histogram2d",
            "colorbar": {
             "outlinewidth": 0,
             "ticks": ""
            },
            "colorscale": [
             [
              0.0,
              "#0d0887"
             ],
             [
              0.1111111111111111,
              "#46039f"
             ],
             [
              0.2222222222222222,
              "#7201a8"
             ],
             [
              0.3333333333333333,
              "#9c179e"
             ],
             [
              0.4444444444444444,
              "#bd3786"
             ],
             [
              0.5555555555555556,
              "#d8576b"
             ],
             [
              0.6666666666666666,
              "#ed7953"
             ],
             [
              0.7777777777777778,
              "#fb9f3a"
             ],
             [
              0.8888888888888888,
              "#fdca26"
             ],
             [
              1.0,
              "#f0f921"
             ]
            ]
           }
          ],
          "heatmap": [
           {
            "type": "heatmap",
            "colorbar": {
             "outlinewidth": 0,
             "ticks": ""
            },
            "colorscale": [
             [
              0.0,
              "#0d0887"
             ],
             [
              0.1111111111111111,
              "#46039f"
             ],
             [
              0.2222222222222222,
              "#7201a8"
             ],
             [
              0.3333333333333333,
              "#9c179e"
             ],
             [
              0.4444444444444444,
              "#bd3786"
             ],
             [
              0.5555555555555556,
              "#d8576b"
             ],
             [
              0.6666666666666666,
              "#ed7953"
             ],
             [
              0.7777777777777778,
              "#fb9f3a"
             ],
             [
              0.8888888888888888,
              "#fdca26"
             ],
             [
              1.0,
              "#f0f921"
             ]
            ]
           }
          ],
          "heatmapgl": [
           {
            "type": "heatmapgl",
            "colorbar": {
             "outlinewidth": 0,
             "ticks": ""
            },
            "colorscale": [
             [
              0.0,
              "#0d0887"
             ],
             [
              0.1111111111111111,
              "#46039f"
             ],
             [
              0.2222222222222222,
              "#7201a8"
             ],
             [
              0.3333333333333333,
              "#9c179e"
             ],
             [
              0.4444444444444444,
              "#bd3786"
             ],
             [
              0.5555555555555556,
              "#d8576b"
             ],
             [
              0.6666666666666666,
              "#ed7953"
             ],
             [
              0.7777777777777778,
              "#fb9f3a"
             ],
             [
              0.8888888888888888,
              "#fdca26"
             ],
             [
              1.0,
              "#f0f921"
             ]
            ]
           }
          ],
          "contourcarpet": [
           {
            "type": "contourcarpet",
            "colorbar": {
             "outlinewidth": 0,
             "ticks": ""
            }
           }
          ],
          "contour": [
           {
            "type": "contour",
            "colorbar": {
             "outlinewidth": 0,
             "ticks": ""
            },
            "colorscale": [
             [
              0.0,
              "#0d0887"
             ],
             [
              0.1111111111111111,
              "#46039f"
             ],
             [
              0.2222222222222222,
              "#7201a8"
             ],
             [
              0.3333333333333333,
              "#9c179e"
             ],
             [
              0.4444444444444444,
              "#bd3786"
             ],
             [
              0.5555555555555556,
              "#d8576b"
             ],
             [
              0.6666666666666666,
              "#ed7953"
             ],
             [
              0.7777777777777778,
              "#fb9f3a"
             ],
             [
              0.8888888888888888,
              "#fdca26"
             ],
             [
              1.0,
              "#f0f921"
             ]
            ]
           }
          ],
          "surface": [
           {
            "type": "surface",
            "colorbar": {
             "outlinewidth": 0,
             "ticks": ""
            },
            "colorscale": [
             [
              0.0,
              "#0d0887"
             ],
             [
              0.1111111111111111,
              "#46039f"
             ],
             [
              0.2222222222222222,
              "#7201a8"
             ],
             [
              0.3333333333333333,
              "#9c179e"
             ],
             [
              0.4444444444444444,
              "#bd3786"
             ],
             [
              0.5555555555555556,
              "#d8576b"
             ],
             [
              0.6666666666666666,
              "#ed7953"
             ],
             [
              0.7777777777777778,
              "#fb9f3a"
             ],
             [
              0.8888888888888888,
              "#fdca26"
             ],
             [
              1.0,
              "#f0f921"
             ]
            ]
           }
          ],
          "mesh3d": [
           {
            "type": "mesh3d",
            "colorbar": {
             "outlinewidth": 0,
             "ticks": ""
            }
           }
          ],
          "scatter": [
           {
            "fillpattern": {
             "fillmode": "overlay",
             "size": 10,
             "solidity": 0.2
            },
            "type": "scatter"
           }
          ],
          "parcoords": [
           {
            "type": "parcoords",
            "line": {
             "colorbar": {
              "outlinewidth": 0,
              "ticks": ""
             }
            }
           }
          ],
          "scatterpolargl": [
           {
            "type": "scatterpolargl",
            "marker": {
             "colorbar": {
              "outlinewidth": 0,
              "ticks": ""
             }
            }
           }
          ],
          "bar": [
           {
            "error_x": {
             "color": "#2a3f5f"
            },
            "error_y": {
             "color": "#2a3f5f"
            },
            "marker": {
             "line": {
              "color": "#E5ECF6",
              "width": 0.5
             },
             "pattern": {
              "fillmode": "overlay",
              "size": 10,
              "solidity": 0.2
             }
            },
            "type": "bar"
           }
          ],
          "scattergeo": [
           {
            "type": "scattergeo",
            "marker": {
             "colorbar": {
              "outlinewidth": 0,
              "ticks": ""
             }
            }
           }
          ],
          "scatterpolar": [
           {
            "type": "scatterpolar",
            "marker": {
             "colorbar": {
              "outlinewidth": 0,
              "ticks": ""
             }
            }
           }
          ],
          "histogram": [
           {
            "marker": {
             "pattern": {
              "fillmode": "overlay",
              "size": 10,
              "solidity": 0.2
             }
            },
            "type": "histogram"
           }
          ],
          "scattergl": [
           {
            "type": "scattergl",
            "marker": {
             "colorbar": {
              "outlinewidth": 0,
              "ticks": ""
             }
            }
           }
          ],
          "scatter3d": [
           {
            "type": "scatter3d",
            "line": {
             "colorbar": {
              "outlinewidth": 0,
              "ticks": ""
             }
            },
            "marker": {
             "colorbar": {
              "outlinewidth": 0,
              "ticks": ""
             }
            }
           }
          ],
          "scattermapbox": [
           {
            "type": "scattermapbox",
            "marker": {
             "colorbar": {
              "outlinewidth": 0,
              "ticks": ""
             }
            }
           }
          ],
          "scatterternary": [
           {
            "type": "scatterternary",
            "marker": {
             "colorbar": {
              "outlinewidth": 0,
              "ticks": ""
             }
            }
           }
          ],
          "scattercarpet": [
           {
            "type": "scattercarpet",
            "marker": {
             "colorbar": {
              "outlinewidth": 0,
              "ticks": ""
             }
            }
           }
          ],
          "carpet": [
           {
            "aaxis": {
             "endlinecolor": "#2a3f5f",
             "gridcolor": "white",
             "linecolor": "white",
             "minorgridcolor": "white",
             "startlinecolor": "#2a3f5f"
            },
            "baxis": {
             "endlinecolor": "#2a3f5f",
             "gridcolor": "white",
             "linecolor": "white",
             "minorgridcolor": "white",
             "startlinecolor": "#2a3f5f"
            },
            "type": "carpet"
           }
          ],
          "table": [
           {
            "cells": {
             "fill": {
              "color": "#EBF0F8"
             },
             "line": {
              "color": "white"
             }
            },
            "header": {
             "fill": {
              "color": "#C8D4E3"
             },
             "line": {
              "color": "white"
             }
            },
            "type": "table"
           }
          ],
          "barpolar": [
           {
            "marker": {
             "line": {
              "color": "#E5ECF6",
              "width": 0.5
             },
             "pattern": {
              "fillmode": "overlay",
              "size": 10,
              "solidity": 0.2
             }
            },
            "type": "barpolar"
           }
          ],
          "pie": [
           {
            "automargin": true,
            "type": "pie"
           }
          ]
         },
         "layout": {
          "autotypenumbers": "strict",
          "colorway": [
           "#636efa",
           "#EF553B",
           "#00cc96",
           "#ab63fa",
           "#FFA15A",
           "#19d3f3",
           "#FF6692",
           "#B6E880",
           "#FF97FF",
           "#FECB52"
          ],
          "font": {
           "color": "#2a3f5f"
          },
          "hovermode": "closest",
          "hoverlabel": {
           "align": "left"
          },
          "paper_bgcolor": "white",
          "plot_bgcolor": "#E5ECF6",
          "polar": {
           "bgcolor": "#E5ECF6",
           "angularaxis": {
            "gridcolor": "white",
            "linecolor": "white",
            "ticks": ""
           },
           "radialaxis": {
            "gridcolor": "white",
            "linecolor": "white",
            "ticks": ""
           }
          },
          "ternary": {
           "bgcolor": "#E5ECF6",
           "aaxis": {
            "gridcolor": "white",
            "linecolor": "white",
            "ticks": ""
           },
           "baxis": {
            "gridcolor": "white",
            "linecolor": "white",
            "ticks": ""
           },
           "caxis": {
            "gridcolor": "white",
            "linecolor": "white",
            "ticks": ""
           }
          },
          "coloraxis": {
           "colorbar": {
            "outlinewidth": 0,
            "ticks": ""
           }
          },
          "colorscale": {
           "sequential": [
            [
             0.0,
             "#0d0887"
            ],
            [
             0.1111111111111111,
             "#46039f"
            ],
            [
             0.2222222222222222,
             "#7201a8"
            ],
            [
             0.3333333333333333,
             "#9c179e"
            ],
            [
             0.4444444444444444,
             "#bd3786"
            ],
            [
             0.5555555555555556,
             "#d8576b"
            ],
            [
             0.6666666666666666,
             "#ed7953"
            ],
            [
             0.7777777777777778,
             "#fb9f3a"
            ],
            [
             0.8888888888888888,
             "#fdca26"
            ],
            [
             1.0,
             "#f0f921"
            ]
           ],
           "sequentialminus": [
            [
             0.0,
             "#0d0887"
            ],
            [
             0.1111111111111111,
             "#46039f"
            ],
            [
             0.2222222222222222,
             "#7201a8"
            ],
            [
             0.3333333333333333,
             "#9c179e"
            ],
            [
             0.4444444444444444,
             "#bd3786"
            ],
            [
             0.5555555555555556,
             "#d8576b"
            ],
            [
             0.6666666666666666,
             "#ed7953"
            ],
            [
             0.7777777777777778,
             "#fb9f3a"
            ],
            [
             0.8888888888888888,
             "#fdca26"
            ],
            [
             1.0,
             "#f0f921"
            ]
           ],
           "diverging": [
            [
             0,
             "#8e0152"
            ],
            [
             0.1,
             "#c51b7d"
            ],
            [
             0.2,
             "#de77ae"
            ],
            [
             0.3,
             "#f1b6da"
            ],
            [
             0.4,
             "#fde0ef"
            ],
            [
             0.5,
             "#f7f7f7"
            ],
            [
             0.6,
             "#e6f5d0"
            ],
            [
             0.7,
             "#b8e186"
            ],
            [
             0.8,
             "#7fbc41"
            ],
            [
             0.9,
             "#4d9221"
            ],
            [
             1,
             "#276419"
            ]
           ]
          },
          "xaxis": {
           "gridcolor": "white",
           "linecolor": "white",
           "ticks": "",
           "title": {
            "standoff": 15
           },
           "zerolinecolor": "white",
           "automargin": true,
           "zerolinewidth": 2
          },
          "yaxis": {
           "gridcolor": "white",
           "linecolor": "white",
           "ticks": "",
           "title": {
            "standoff": 15
           },
           "zerolinecolor": "white",
           "automargin": true,
           "zerolinewidth": 2
          },
          "scene": {
           "xaxis": {
            "backgroundcolor": "#E5ECF6",
            "gridcolor": "white",
            "linecolor": "white",
            "showbackground": true,
            "ticks": "",
            "zerolinecolor": "white",
            "gridwidth": 2
           },
           "yaxis": {
            "backgroundcolor": "#E5ECF6",
            "gridcolor": "white",
            "linecolor": "white",
            "showbackground": true,
            "ticks": "",
            "zerolinecolor": "white",
            "gridwidth": 2
           },
           "zaxis": {
            "backgroundcolor": "#E5ECF6",
            "gridcolor": "white",
            "linecolor": "white",
            "showbackground": true,
            "ticks": "",
            "zerolinecolor": "white",
            "gridwidth": 2
           }
          },
          "shapedefaults": {
           "line": {
            "color": "#2a3f5f"
           }
          },
          "annotationdefaults": {
           "arrowcolor": "#2a3f5f",
           "arrowhead": 0,
           "arrowwidth": 1
          },
          "geo": {
           "bgcolor": "white",
           "landcolor": "#E5ECF6",
           "subunitcolor": "white",
           "showland": true,
           "showlakes": true,
           "lakecolor": "white"
          },
          "title": {
           "x": 0.05
          },
          "mapbox": {
           "style": "light"
          }
         }
        },
        "xaxis": {
         "title": {
          "text": "Date"
         },
         "tickangle": -45
        },
        "title": {
         "text": "Price and Oracle Prediction"
        },
        "yaxis": {
         "title": {
          "text": "Price"
         }
        },
        "hovermode": "closest"
       },
       "config": {
        "plotlyServerURL": "https://plot.ly"
       }
      },
      "text/html": [
       "<div>                            <div id=\"39f0ae78-babb-4a3a-98d9-1d8859208751\" class=\"plotly-graph-div\" style=\"height:525px; width:100%;\"></div>            <script type=\"text/javascript\">                require([\"plotly\"], function(Plotly) {                    window.PLOTLYENV=window.PLOTLYENV || {};                                    if (document.getElementById(\"39f0ae78-babb-4a3a-98d9-1d8859208751\")) {                    Plotly.newPlot(                        \"39f0ae78-babb-4a3a-98d9-1d8859208751\",                        [{\"line\":{\"color\":\"blue\",\"width\":2},\"mode\":\"lines\",\"name\":\"Actual\",\"x\":[\"2024-09-05\",\"2024-09-06\",\"2024-09-07\",\"2024-09-08\",\"2024-09-09\",\"2024-09-10\",\"2024-09-11\",\"2024-09-12\",\"2024-09-13\",\"2024-09-14\",\"2024-09-15\",\"2024-09-16\",\"2024-09-17\",\"2024-09-18\",\"2024-09-19\",\"2024-09-20\",\"2024-09-21\",\"2024-09-22\",\"2024-09-23\",\"2024-09-24\",\"2024-09-25\",\"2024-09-26\",\"2024-09-27\",\"2024-09-28\",\"2024-09-29\",\"2024-09-30\",\"2024-10-01\",\"2024-10-02\",\"2024-10-03\",\"2024-10-04\",\"2024-10-05\",\"2024-10-06\",\"2024-10-07\",\"2024-10-08\",\"2024-10-09\",\"2024-10-10\",\"2024-10-11\",\"2024-10-12\",\"2024-10-13\",\"2024-10-14\",\"2024-10-15\",\"2024-10-16\",\"2024-10-17\",\"2024-10-18\",\"2024-10-19\",\"2024-10-20\",\"2024-10-21\",\"2024-10-22\",\"2024-10-23\",\"2024-10-24\",\"2024-10-25\",\"2024-10-26\",\"2024-10-27\",\"2024-10-28\",\"2024-10-29\",\"2024-10-30\",\"2024-10-31\",\"2024-11-01\",\"2024-11-02\",\"2024-11-03\"],\"y\":[58127.01171875,60571.30078125,60005.12109375,59182.8359375,58192.5078125,60308.5390625,61649.6796875,62940.45703125,63192.9765625,63394.83984375,63648.7109375,63329.80078125,64301.96875,63143.14453125,65181.01953125,65790.6640625,65887.6484375,65635.3046875,63329.5,60837.0078125,60632.78515625,60759.40234375,62067.4765625,62089.94921875,62818.953125,62236.66015625,62131.96875,60582.1015625,60274.5,62445.08984375,63193.0234375,62851.375,66046.125,67041.109375,67612.71875,67399.8359375,68418.7890625,68362.734375,69001.703125,67367.8515625,67361.40625,66432.1953125,68161.0546875,66642.4140625,67014.6953125,67929.296875,69907.7578125,72720.4921875,72339.5390625,70215.1875,69482.46875,69289.2734375,68741.1171875,67811.5078125,69359.5625,75639.078125,75904.859375,76545.4765625,76778.8671875,80325.9609375],\"type\":\"scatter\"},{\"fill\":\"tonexty\",\"fillcolor\":\"rgba(255, 165, 0, 0.2)\",\"line\":{\"color\":\"rgba(255, 165, 0, 0.8)\",\"shape\":\"spline\",\"width\":2},\"marker\":{\"color\":\"orange\",\"line\":{\"color\":\"black\",\"width\":2},\"size\":6,\"symbol\":\"circle\"},\"mode\":\"lines+markers\",\"name\":\"Prediction\",\"x\":[\"2024-11-03\",\"2024-11-04\",\"2024-11-05\",\"2024-11-06\",\"2024-11-07\",\"2024-11-08\",\"2024-11-09\"],\"y\":[80325.9609375,68271.65758326987,67554.35364808922,67167.45559797449,67346.02252394703,67257.84854096617,67839.2343268429],\"type\":\"scatter\"}],                        {\"template\":{\"data\":{\"histogram2dcontour\":[{\"type\":\"histogram2dcontour\",\"colorbar\":{\"outlinewidth\":0,\"ticks\":\"\"},\"colorscale\":[[0.0,\"#0d0887\"],[0.1111111111111111,\"#46039f\"],[0.2222222222222222,\"#7201a8\"],[0.3333333333333333,\"#9c179e\"],[0.4444444444444444,\"#bd3786\"],[0.5555555555555556,\"#d8576b\"],[0.6666666666666666,\"#ed7953\"],[0.7777777777777778,\"#fb9f3a\"],[0.8888888888888888,\"#fdca26\"],[1.0,\"#f0f921\"]]}],\"choropleth\":[{\"type\":\"choropleth\",\"colorbar\":{\"outlinewidth\":0,\"ticks\":\"\"}}],\"histogram2d\":[{\"type\":\"histogram2d\",\"colorbar\":{\"outlinewidth\":0,\"ticks\":\"\"},\"colorscale\":[[0.0,\"#0d0887\"],[0.1111111111111111,\"#46039f\"],[0.2222222222222222,\"#7201a8\"],[0.3333333333333333,\"#9c179e\"],[0.4444444444444444,\"#bd3786\"],[0.5555555555555556,\"#d8576b\"],[0.6666666666666666,\"#ed7953\"],[0.7777777777777778,\"#fb9f3a\"],[0.8888888888888888,\"#fdca26\"],[1.0,\"#f0f921\"]]}],\"heatmap\":[{\"type\":\"heatmap\",\"colorbar\":{\"outlinewidth\":0,\"ticks\":\"\"},\"colorscale\":[[0.0,\"#0d0887\"],[0.1111111111111111,\"#46039f\"],[0.2222222222222222,\"#7201a8\"],[0.3333333333333333,\"#9c179e\"],[0.4444444444444444,\"#bd3786\"],[0.5555555555555556,\"#d8576b\"],[0.6666666666666666,\"#ed7953\"],[0.7777777777777778,\"#fb9f3a\"],[0.8888888888888888,\"#fdca26\"],[1.0,\"#f0f921\"]]}],\"heatmapgl\":[{\"type\":\"heatmapgl\",\"colorbar\":{\"outlinewidth\":0,\"ticks\":\"\"},\"colorscale\":[[0.0,\"#0d0887\"],[0.1111111111111111,\"#46039f\"],[0.2222222222222222,\"#7201a8\"],[0.3333333333333333,\"#9c179e\"],[0.4444444444444444,\"#bd3786\"],[0.5555555555555556,\"#d8576b\"],[0.6666666666666666,\"#ed7953\"],[0.7777777777777778,\"#fb9f3a\"],[0.8888888888888888,\"#fdca26\"],[1.0,\"#f0f921\"]]}],\"contourcarpet\":[{\"type\":\"contourcarpet\",\"colorbar\":{\"outlinewidth\":0,\"ticks\":\"\"}}],\"contour\":[{\"type\":\"contour\",\"colorbar\":{\"outlinewidth\":0,\"ticks\":\"\"},\"colorscale\":[[0.0,\"#0d0887\"],[0.1111111111111111,\"#46039f\"],[0.2222222222222222,\"#7201a8\"],[0.3333333333333333,\"#9c179e\"],[0.4444444444444444,\"#bd3786\"],[0.5555555555555556,\"#d8576b\"],[0.6666666666666666,\"#ed7953\"],[0.7777777777777778,\"#fb9f3a\"],[0.8888888888888888,\"#fdca26\"],[1.0,\"#f0f921\"]]}],\"surface\":[{\"type\":\"surface\",\"colorbar\":{\"outlinewidth\":0,\"ticks\":\"\"},\"colorscale\":[[0.0,\"#0d0887\"],[0.1111111111111111,\"#46039f\"],[0.2222222222222222,\"#7201a8\"],[0.3333333333333333,\"#9c179e\"],[0.4444444444444444,\"#bd3786\"],[0.5555555555555556,\"#d8576b\"],[0.6666666666666666,\"#ed7953\"],[0.7777777777777778,\"#fb9f3a\"],[0.8888888888888888,\"#fdca26\"],[1.0,\"#f0f921\"]]}],\"mesh3d\":[{\"type\":\"mesh3d\",\"colorbar\":{\"outlinewidth\":0,\"ticks\":\"\"}}],\"scatter\":[{\"fillpattern\":{\"fillmode\":\"overlay\",\"size\":10,\"solidity\":0.2},\"type\":\"scatter\"}],\"parcoords\":[{\"type\":\"parcoords\",\"line\":{\"colorbar\":{\"outlinewidth\":0,\"ticks\":\"\"}}}],\"scatterpolargl\":[{\"type\":\"scatterpolargl\",\"marker\":{\"colorbar\":{\"outlinewidth\":0,\"ticks\":\"\"}}}],\"bar\":[{\"error_x\":{\"color\":\"#2a3f5f\"},\"error_y\":{\"color\":\"#2a3f5f\"},\"marker\":{\"line\":{\"color\":\"#E5ECF6\",\"width\":0.5},\"pattern\":{\"fillmode\":\"overlay\",\"size\":10,\"solidity\":0.2}},\"type\":\"bar\"}],\"scattergeo\":[{\"type\":\"scattergeo\",\"marker\":{\"colorbar\":{\"outlinewidth\":0,\"ticks\":\"\"}}}],\"scatterpolar\":[{\"type\":\"scatterpolar\",\"marker\":{\"colorbar\":{\"outlinewidth\":0,\"ticks\":\"\"}}}],\"histogram\":[{\"marker\":{\"pattern\":{\"fillmode\":\"overlay\",\"size\":10,\"solidity\":0.2}},\"type\":\"histogram\"}],\"scattergl\":[{\"type\":\"scattergl\",\"marker\":{\"colorbar\":{\"outlinewidth\":0,\"ticks\":\"\"}}}],\"scatter3d\":[{\"type\":\"scatter3d\",\"line\":{\"colorbar\":{\"outlinewidth\":0,\"ticks\":\"\"}},\"marker\":{\"colorbar\":{\"outlinewidth\":0,\"ticks\":\"\"}}}],\"scattermapbox\":[{\"type\":\"scattermapbox\",\"marker\":{\"colorbar\":{\"outlinewidth\":0,\"ticks\":\"\"}}}],\"scatterternary\":[{\"type\":\"scatterternary\",\"marker\":{\"colorbar\":{\"outlinewidth\":0,\"ticks\":\"\"}}}],\"scattercarpet\":[{\"type\":\"scattercarpet\",\"marker\":{\"colorbar\":{\"outlinewidth\":0,\"ticks\":\"\"}}}],\"carpet\":[{\"aaxis\":{\"endlinecolor\":\"#2a3f5f\",\"gridcolor\":\"white\",\"linecolor\":\"white\",\"minorgridcolor\":\"white\",\"startlinecolor\":\"#2a3f5f\"},\"baxis\":{\"endlinecolor\":\"#2a3f5f\",\"gridcolor\":\"white\",\"linecolor\":\"white\",\"minorgridcolor\":\"white\",\"startlinecolor\":\"#2a3f5f\"},\"type\":\"carpet\"}],\"table\":[{\"cells\":{\"fill\":{\"color\":\"#EBF0F8\"},\"line\":{\"color\":\"white\"}},\"header\":{\"fill\":{\"color\":\"#C8D4E3\"},\"line\":{\"color\":\"white\"}},\"type\":\"table\"}],\"barpolar\":[{\"marker\":{\"line\":{\"color\":\"#E5ECF6\",\"width\":0.5},\"pattern\":{\"fillmode\":\"overlay\",\"size\":10,\"solidity\":0.2}},\"type\":\"barpolar\"}],\"pie\":[{\"automargin\":true,\"type\":\"pie\"}]},\"layout\":{\"autotypenumbers\":\"strict\",\"colorway\":[\"#636efa\",\"#EF553B\",\"#00cc96\",\"#ab63fa\",\"#FFA15A\",\"#19d3f3\",\"#FF6692\",\"#B6E880\",\"#FF97FF\",\"#FECB52\"],\"font\":{\"color\":\"#2a3f5f\"},\"hovermode\":\"closest\",\"hoverlabel\":{\"align\":\"left\"},\"paper_bgcolor\":\"white\",\"plot_bgcolor\":\"#E5ECF6\",\"polar\":{\"bgcolor\":\"#E5ECF6\",\"angularaxis\":{\"gridcolor\":\"white\",\"linecolor\":\"white\",\"ticks\":\"\"},\"radialaxis\":{\"gridcolor\":\"white\",\"linecolor\":\"white\",\"ticks\":\"\"}},\"ternary\":{\"bgcolor\":\"#E5ECF6\",\"aaxis\":{\"gridcolor\":\"white\",\"linecolor\":\"white\",\"ticks\":\"\"},\"baxis\":{\"gridcolor\":\"white\",\"linecolor\":\"white\",\"ticks\":\"\"},\"caxis\":{\"gridcolor\":\"white\",\"linecolor\":\"white\",\"ticks\":\"\"}},\"coloraxis\":{\"colorbar\":{\"outlinewidth\":0,\"ticks\":\"\"}},\"colorscale\":{\"sequential\":[[0.0,\"#0d0887\"],[0.1111111111111111,\"#46039f\"],[0.2222222222222222,\"#7201a8\"],[0.3333333333333333,\"#9c179e\"],[0.4444444444444444,\"#bd3786\"],[0.5555555555555556,\"#d8576b\"],[0.6666666666666666,\"#ed7953\"],[0.7777777777777778,\"#fb9f3a\"],[0.8888888888888888,\"#fdca26\"],[1.0,\"#f0f921\"]],\"sequentialminus\":[[0.0,\"#0d0887\"],[0.1111111111111111,\"#46039f\"],[0.2222222222222222,\"#7201a8\"],[0.3333333333333333,\"#9c179e\"],[0.4444444444444444,\"#bd3786\"],[0.5555555555555556,\"#d8576b\"],[0.6666666666666666,\"#ed7953\"],[0.7777777777777778,\"#fb9f3a\"],[0.8888888888888888,\"#fdca26\"],[1.0,\"#f0f921\"]],\"diverging\":[[0,\"#8e0152\"],[0.1,\"#c51b7d\"],[0.2,\"#de77ae\"],[0.3,\"#f1b6da\"],[0.4,\"#fde0ef\"],[0.5,\"#f7f7f7\"],[0.6,\"#e6f5d0\"],[0.7,\"#b8e186\"],[0.8,\"#7fbc41\"],[0.9,\"#4d9221\"],[1,\"#276419\"]]},\"xaxis\":{\"gridcolor\":\"white\",\"linecolor\":\"white\",\"ticks\":\"\",\"title\":{\"standoff\":15},\"zerolinecolor\":\"white\",\"automargin\":true,\"zerolinewidth\":2},\"yaxis\":{\"gridcolor\":\"white\",\"linecolor\":\"white\",\"ticks\":\"\",\"title\":{\"standoff\":15},\"zerolinecolor\":\"white\",\"automargin\":true,\"zerolinewidth\":2},\"scene\":{\"xaxis\":{\"backgroundcolor\":\"#E5ECF6\",\"gridcolor\":\"white\",\"linecolor\":\"white\",\"showbackground\":true,\"ticks\":\"\",\"zerolinecolor\":\"white\",\"gridwidth\":2},\"yaxis\":{\"backgroundcolor\":\"#E5ECF6\",\"gridcolor\":\"white\",\"linecolor\":\"white\",\"showbackground\":true,\"ticks\":\"\",\"zerolinecolor\":\"white\",\"gridwidth\":2},\"zaxis\":{\"backgroundcolor\":\"#E5ECF6\",\"gridcolor\":\"white\",\"linecolor\":\"white\",\"showbackground\":true,\"ticks\":\"\",\"zerolinecolor\":\"white\",\"gridwidth\":2}},\"shapedefaults\":{\"line\":{\"color\":\"#2a3f5f\"}},\"annotationdefaults\":{\"arrowcolor\":\"#2a3f5f\",\"arrowhead\":0,\"arrowwidth\":1},\"geo\":{\"bgcolor\":\"white\",\"landcolor\":\"#E5ECF6\",\"subunitcolor\":\"white\",\"showland\":true,\"showlakes\":true,\"lakecolor\":\"white\"},\"title\":{\"x\":0.05},\"mapbox\":{\"style\":\"light\"}}},\"xaxis\":{\"title\":{\"text\":\"Date\"},\"tickangle\":-45},\"title\":{\"text\":\"Price and Oracle Prediction\"},\"yaxis\":{\"title\":{\"text\":\"Price\"}},\"hovermode\":\"closest\"},                        {\"responsive\": true}                    ).then(function(){\n",
       "                            \n",
       "var gd = document.getElementById('39f0ae78-babb-4a3a-98d9-1d8859208751');\n",
       "var x = new MutationObserver(function (mutations, observer) {{\n",
       "        var display = window.getComputedStyle(gd).display;\n",
       "        if (!display || display === 'none') {{\n",
       "            console.log([gd, 'removed!']);\n",
       "            Plotly.purge(gd);\n",
       "            observer.disconnect();\n",
       "        }}\n",
       "}});\n",
       "\n",
       "// Listen for the removal of the full notebook cells\n",
       "var notebookContainer = gd.closest('#notebook-container');\n",
       "if (notebookContainer) {{\n",
       "    x.observe(notebookContainer, {childList: true});\n",
       "}}\n",
       "\n",
       "// Listen for the clearing of the current output cell\n",
       "var outputEl = gd.closest('.output');\n",
       "if (outputEl) {{\n",
       "    x.observe(outputEl, {childList: true});\n",
       "}}\n",
       "\n",
       "                        })                };                });            </script>        </div>"
      ]
     },
     "metadata": {},
     "output_type": "display_data"
    }
   ],
   "execution_count": 66
  },
  {
   "metadata": {
    "ExecuteTime": {
     "end_time": "2024-11-11T01:02:55.120263Z",
     "start_time": "2024-11-11T01:02:55.103551Z"
    }
   },
   "cell_type": "code",
   "source": [
    "result = []\n",
    "time_diff = len(b)-7\n",
    "for i, price in enumerate(b):\n",
    "    result.append({\"date\": (datetime.today() - timedelta(days=time_diff)).strftime('%Y-%m-%d'), \"price\": price})\n",
    "    time_diff -= 1\n",
    "result"
   ],
   "id": "ce9faef531c98ed0",
   "outputs": [
    {
     "data": {
      "text/plain": [
       "[{'date': '2024-09-12', 'price': 58127.01171875},\n",
       " {'date': '2024-09-13', 'price': 60571.30078125},\n",
       " {'date': '2024-09-14', 'price': 60005.12109375},\n",
       " {'date': '2024-09-15', 'price': 59182.8359375},\n",
       " {'date': '2024-09-16', 'price': 58192.5078125},\n",
       " {'date': '2024-09-17', 'price': 60308.5390625},\n",
       " {'date': '2024-09-18', 'price': 61649.6796875},\n",
       " {'date': '2024-09-19', 'price': 62940.45703125},\n",
       " {'date': '2024-09-20', 'price': 63192.9765625},\n",
       " {'date': '2024-09-21', 'price': 63394.83984375},\n",
       " {'date': '2024-09-22', 'price': 63648.7109375},\n",
       " {'date': '2024-09-23', 'price': 63329.80078125},\n",
       " {'date': '2024-09-24', 'price': 64301.96875},\n",
       " {'date': '2024-09-25', 'price': 63143.14453125},\n",
       " {'date': '2024-09-26', 'price': 65181.01953125},\n",
       " {'date': '2024-09-27', 'price': 65790.6640625},\n",
       " {'date': '2024-09-28', 'price': 65887.6484375},\n",
       " {'date': '2024-09-29', 'price': 65635.3046875},\n",
       " {'date': '2024-09-30', 'price': 63329.5},\n",
       " {'date': '2024-10-01', 'price': 60837.0078125},\n",
       " {'date': '2024-10-02', 'price': 60632.78515625},\n",
       " {'date': '2024-10-03', 'price': 60759.40234375},\n",
       " {'date': '2024-10-04', 'price': 62067.4765625},\n",
       " {'date': '2024-10-05', 'price': 62089.94921875},\n",
       " {'date': '2024-10-06', 'price': 62818.953125},\n",
       " {'date': '2024-10-07', 'price': 62236.66015625},\n",
       " {'date': '2024-10-08', 'price': 62131.96875},\n",
       " {'date': '2024-10-09', 'price': 60582.1015625},\n",
       " {'date': '2024-10-10', 'price': 60274.5},\n",
       " {'date': '2024-10-11', 'price': 62445.08984375},\n",
       " {'date': '2024-10-12', 'price': 63193.0234375},\n",
       " {'date': '2024-10-13', 'price': 62851.375},\n",
       " {'date': '2024-10-14', 'price': 66046.125},\n",
       " {'date': '2024-10-15', 'price': 67041.109375},\n",
       " {'date': '2024-10-16', 'price': 67612.71875},\n",
       " {'date': '2024-10-17', 'price': 67399.8359375},\n",
       " {'date': '2024-10-18', 'price': 68418.7890625},\n",
       " {'date': '2024-10-19', 'price': 68362.734375},\n",
       " {'date': '2024-10-20', 'price': 69001.703125},\n",
       " {'date': '2024-10-21', 'price': 67367.8515625},\n",
       " {'date': '2024-10-22', 'price': 67361.40625},\n",
       " {'date': '2024-10-23', 'price': 66432.1953125},\n",
       " {'date': '2024-10-24', 'price': 68161.0546875},\n",
       " {'date': '2024-10-25', 'price': 66642.4140625},\n",
       " {'date': '2024-10-26', 'price': 67014.6953125},\n",
       " {'date': '2024-10-27', 'price': 67929.296875},\n",
       " {'date': '2024-10-28', 'price': 69907.7578125},\n",
       " {'date': '2024-10-29', 'price': 72720.4921875},\n",
       " {'date': '2024-10-30', 'price': 72339.5390625},\n",
       " {'date': '2024-10-31', 'price': 70215.1875},\n",
       " {'date': '2024-11-01', 'price': 69482.46875},\n",
       " {'date': '2024-11-02', 'price': 69289.2734375},\n",
       " {'date': '2024-11-03', 'price': 68741.1171875},\n",
       " {'date': '2024-11-04', 'price': 67811.5078125},\n",
       " {'date': '2024-11-05', 'price': 69359.5625},\n",
       " {'date': '2024-11-06', 'price': 75639.078125},\n",
       " {'date': '2024-11-07', 'price': 75904.859375},\n",
       " {'date': '2024-11-08', 'price': 76545.4765625},\n",
       " {'date': '2024-11-09', 'price': 76778.8671875},\n",
       " {'date': '2024-11-10', 'price': 80325.9609375},\n",
       " {'date': '2024-11-11', 'price': 68271.65758326987},\n",
       " {'date': '2024-11-12', 'price': 67554.35364808922},\n",
       " {'date': '2024-11-13', 'price': 67167.45559797449},\n",
       " {'date': '2024-11-14', 'price': 67346.02252394703},\n",
       " {'date': '2024-11-15', 'price': 67257.84854096617},\n",
       " {'date': '2024-11-16', 'price': 67839.2343268429},\n",
       " {'date': '2024-11-17', 'price': 67079.13551063077}]"
      ]
     },
     "execution_count": 70,
     "metadata": {},
     "output_type": "execute_result"
    }
   ],
   "execution_count": 70
  }
 ],
 "metadata": {
  "kernelspec": {
   "display_name": "Python 3",
   "language": "python",
   "name": "python3"
  },
  "language_info": {
   "codemirror_mode": {
    "name": "ipython",
    "version": 2
   },
   "file_extension": ".py",
   "mimetype": "text/x-python",
   "name": "python",
   "nbconvert_exporter": "python",
   "pygments_lexer": "ipython2",
   "version": "2.7.6"
  }
 },
 "nbformat": 4,
 "nbformat_minor": 5
}
