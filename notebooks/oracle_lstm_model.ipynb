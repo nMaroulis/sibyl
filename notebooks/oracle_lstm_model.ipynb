{
 "cells": [
  {
   "cell_type": "code",
   "metadata": {},
   "source": [
    "import pandas as pd\n",
    "import numpy as np\n",
    "import tensorflow as tf\n",
    "import plotly.graph_objects as go\n",
    "from sklearn.preprocessing import MinMaxScaler\n",
    "\n",
    "\n",
    "df = pd.read_csv('./training_datasets/Bitcoin [BTC]_15mprice_history.csv')\n",
    "df = df.drop(['DateTime','Closing Price', 'High', 'Low'], axis=1)"
   ],
   "outputs": [],
   "execution_count": null
  },
  {
   "cell_type": "code",
   "metadata": {},
   "source": [
    "df.head()"
   ],
   "outputs": [],
   "execution_count": null
  },
  {
   "cell_type": "code",
   "metadata": {},
   "source": [
    "# Preprocess the data\n",
    "scaler = MinMaxScaler()\n",
    "df['Open'] = scaler.fit_transform(df[['Open']].values)\n",
    "# Drop rows with NaN values resulting from the shift operation\n",
    "df.dropna(inplace=True)\n",
    "\n",
    "df['Open'].head()\n",
    "\n",
    "# Define the number of previous price points to include as additional features\n",
    "# n_prev_points = 5\n",
    "\n",
    "# Generate the additional input features using previous price points\n",
    "# for i in range(1, n_prev_points + 1):\n",
    "#     for col in ['Open', 'High', 'Low']:\n",
    "#         df[f'{col}_Prev_{i}'] = df[col].shift(i)"
   ],
   "outputs": [],
   "execution_count": null
  },
  {
   "cell_type": "code",
   "metadata": {},
   "source": [
    "# Split the data into training and testing sets\n",
    "train_data = df.iloc[:-60]  # Use all but the last 60 data points for training\n",
    "test_data = df.iloc[-60:]   # Use the last 60 data points for testing\n",
    "\n",
    "# Define the window size for input sequences\n",
    "window_size = 50\n",
    "\n",
    "# Create the input sequences and target values for training\n",
    "X_train = []\n",
    "y_train = []\n",
    "for i in range(len(train_data) - window_size):\n",
    "    X_train.append(train_data.iloc[i:i+window_size].values)\n",
    "    y_train.append(train_data.iloc[i+window_size].values)\n",
    "X_train = np.array(X_train) #.astype(np.float32)\n",
    "y_train = np.array(y_train) #.astype(np.float32)\n",
    "\n",
    "\n",
    "# Create the input sequences and target values for testing\n",
    "X_test = []\n",
    "y_test = []\n",
    "for i in range(len(test_data) - window_size):\n",
    "    X_test.append(test_data.iloc[i:i+window_size].values)\n",
    "    y_test.append(test_data.iloc[i+window_size].values)\n",
    "X_test = np.array(X_test)\n",
    "y_test = np.array(y_test)\n",
    "\n",
    "print(len(X_test[0]), len(y_test[0]))"
   ],
   "outputs": [],
   "execution_count": null
  },
  {
   "cell_type": "code",
   "metadata": {},
   "source": [
    "# Build the TensorFlow model\n",
    "model = tf.keras.models.Sequential([\n",
    "    tf.keras.layers.LSTM(64, activation='relu', input_shape=(window_size, 1)),\n",
    "    tf.keras.layers.Dropout(0.2),  # Additional dropout layer for regularization\n",
    "    tf.keras.layers.Dense(32, activation='relu'),\n",
    "    tf.keras.layers.Dense(1)\n",
    "])\n",
    "\n",
    "# Compile the model\n",
    "model.compile(optimizer='adam', loss='mean_squared_error')\n",
    "\n",
    "# Train the model\n",
    "model.fit(X_train, y_train, epochs=500, batch_size=16)\n",
    "\n",
    "# Evaluate the model\n",
    "loss = model.evaluate(X_test, y_test)\n",
    "print(\"Test Loss:\", loss)"
   ],
   "outputs": [],
   "execution_count": null
  },
  {
   "cell_type": "code",
   "metadata": {},
   "source": [
    "# Test Prediction\n",
    "last_window = np.expand_dims(X_test[-1], axis=0)\n",
    "print(last_window)\n",
    "forecast = model.predict(last_window)\n",
    "print(forecast)"
   ],
   "outputs": [],
   "execution_count": null
  },
  {
   "cell_type": "code",
   "metadata": {},
   "source": [
    "# Make predictions for multiple time steps into the future\n",
    "num_steps = 4  # Number of future time steps to predict - 1 hour\n",
    "\n",
    "# last_window = np.expand_dims(X_test[-1], axis=0)\n",
    "# last_window = X_test[-4]\n",
    "\n",
    "\n",
    "# print(X_test[-4])\n",
    "predictions = []\n",
    "for i in range(num_steps):\n",
    "    \n",
    "    test_index = 0-(num_steps-i) # -1, -2, -3, -4\n",
    "    last_x = X_test[test_index].copy()  \n",
    "    # make the generated prediction the new last samples of the last_window\n",
    "    for p in range(1, len(predictions)+1):\n",
    "        last_x[0-p] = predictions[0-p]\n",
    "    # np.concatenate((last_window[:, 1:, :], np.expand_dims(forecast, axis=1)), axis=1)\n",
    "    last_window = np.expand_dims(last_x, axis=0) # make test set the last window\n",
    "    forecast = model.predict(last_window)\n",
    "    print('Predicted:', forecast, '- Actual:', y_test[test_index])\n",
    "    predictions.append(forecast)\n",
    "\n",
    "# Plot actual and predicted prices\n",
    "test_data_range = list(range(len(X_test)))\n",
    "future_time_steps = list(range(len(X_test)-num_steps, len(X_test)))\n",
    "\n",
    "# Reverse Transform\n",
    "predictions = scaler.inverse_transform(np.asarray(predictions).reshape(-1, 1)).reshape(-1)\n",
    "actual_y = scaler.inverse_transform(test_data['Open'].values.reshape(-1, 1)).reshape(-1)\n",
    "\n",
    "# print(predictions.reshape(-1))\n",
    "\n",
    "fig = go.Figure()\n",
    "fig.add_trace(go.Scatter(x=test_data_range, y=actual_y, mode='lines', name='Actual Open Price'))\n",
    "fig.add_trace(go.Scatter(x=future_time_steps, y=predictions, mode='lines', name='Predicted Open Price'))\n",
    "fig.update_layout(title='Bitcoin Open Price Forecast',\n",
    "                  xaxis_title='Time',\n",
    "                  yaxis_title='Open Price')\n",
    "fig.show()"
   ],
   "outputs": [],
   "execution_count": null
  }
 ],
 "metadata": {
  "kernelspec": {
   "display_name": "Python 3 (ipykernel)",
   "language": "python",
   "name": "python3"
  },
  "language_info": {
   "codemirror_mode": {
    "name": "ipython",
    "version": 3
   },
   "file_extension": ".py",
   "mimetype": "text/x-python",
   "name": "python",
   "nbconvert_exporter": "python",
   "pygments_lexer": "ipython3",
   "version": "3.10.9"
  }
 },
 "nbformat": 4,
 "nbformat_minor": 1
}
