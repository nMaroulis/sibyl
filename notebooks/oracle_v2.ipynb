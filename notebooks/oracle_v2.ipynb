{
 "cells": [
  {
   "metadata": {
    "collapsed": true
   },
   "cell_type": "code",
   "source": [
    "import matplotlib.pyplot as plt\n",
    "import pandas as pd\n",
    "import numpy as np\n",
    "from sklearn.preprocessing import MinMaxScaler\n",
    "from sklearn.model_selection import train_test_split\n",
    "\n",
    "# Load the dataset\n",
    "df = pd.read_csv('training_datasets/bitcoin_prediction_dataset.csv', parse_dates=['date'])\n",
    "\n",
    "# Sort by date\n",
    "df = df.sort_values('date')\n",
    "print(df.head(1))\n",
    "# Normalize the features using MinMaxScaler\n",
    "scaler = MinMaxScaler(feature_range=(0, 1))\n",
    "scaled_data = scaler.fit_transform(df[['bitcoin_price', 'sp500_price', 'gold_price', 'usd_index', 'oil_price', 'volatility_index', 'interest_rate']])\n",
    "\n",
    "print(scaled_data[0:2])\n",
    "# Create sequences for the LSTM model\n",
    "def create_sequences(data, lookback, forecast_horizon=7):\n",
    "    X, y = [], []\n",
    "    for i in range(lookback, len(data) - forecast_horizon + 1):\n",
    "        X.append(data[i - lookback:i])\n",
    "        y.append(data[i:i + forecast_horizon, 0])  # Bitcoin price for the next 7 days\n",
    "    return np.array(X), np.array(y)\n",
    "\n",
    "lookback = 30  # Lookback window of 60 days (past 60 days as input)\n",
    "X, y = create_sequences(scaled_data, lookback)\n",
    "\n",
    "# Split into training and test sets\n",
    "X_train, X_test, y_train, y_test = train_test_split(X, y, test_size=0.2, shuffle=False)\n",
    "print(len(X_train), len(X_test))"
   ],
   "id": "initial_id",
   "outputs": [],
   "execution_count": null
  },
  {
   "metadata": {},
   "cell_type": "code",
   "source": [
    "from tensorflow.keras.models import Sequential\n",
    "from tensorflow.keras.layers import LSTM, Dense, Dropout, BatchNormalization, Bidirectional, GaussianNoise, LayerNormalization\n",
    "from tensorflow.keras.optimizers import Adam\n",
    "from tensorflow.keras.callbacks import ReduceLROnPlateau, EarlyStopping, ModelCheckpoint\n",
    "from tensorflow.keras.regularizers import l2\n",
    "\n",
    "\n",
    "model = Sequential()\n",
    "model.add(GaussianNoise(0.1, input_shape=(X_train.shape[1], X_train.shape[2])))\n",
    "model.add(Bidirectional(LSTM(32, return_sequences=True, dropout=0.3, recurrent_dropout=0.3, kernel_regularizer=l2(0.01))))\n",
    "model.add(BatchNormalization())\n",
    "model.add(LSTM(16, return_sequences=False, dropout=0.2, recurrent_dropout=0.2))\n",
    "model.add(Dropout(0.2))\n",
    "model.add(Dense(16, activation='relu'))\n",
    "model.add(Dropout(0.2))\n",
    "model.add(Dense(7))\n",
    "\n",
    "optimizer = Adam(learning_rate=5e-4)\n",
    "model.compile(optimizer=optimizer, loss='mean_squared_error')\n",
    "\n",
    "early_stopping = EarlyStopping(monitor='val_loss', patience=20, restore_best_weights=True)\n",
    "lr_reduction = ReduceLROnPlateau(monitor='val_loss', factor=0.5, patience=5, min_lr=1e-5, verbose=1)\n",
    "model_checkpoint = ModelCheckpoint('./best_model.keras', monitor='val_loss', save_best_only=True, verbose=1)\n",
    "\n",
    "history = model.fit(X_train, y_train,\n",
    "                    epochs=120, \n",
    "                    batch_size=16,\n",
    "                    verbose = 2,\n",
    "                    validation_data=(X_test, y_test), \n",
    "                    callbacks=[early_stopping, lr_reduction, model_checkpoint])\n",
    "\n",
    "model.summary()"
   ],
   "id": "7cf0f25ead872f21",
   "outputs": [],
   "execution_count": null
  },
  {
   "metadata": {},
   "cell_type": "code",
   "source": [
    "test_loss = model.evaluate(X_test, y_test)\n",
    "print(f\"Test Loss: {test_loss}\")"
   ],
   "id": "942c40e47f6581dd",
   "outputs": [],
   "execution_count": null
  },
  {
   "metadata": {},
   "cell_type": "code",
   "source": [
    "# Predicting the next 7 days for the test set\n",
    "predictions = model.predict(X_test)\n",
    "\n",
    "\n",
    "def clean_model_prediction(y_pred):\n",
    "    dummy_2d_array = np.zeros((7, 7))\n",
    "    dummy_2d_array[:, 0] = y_pred\n",
    "    rescaled_2d_array = scaler.inverse_transform(dummy_2d_array)\n",
    "    return rescaled_2d_array[:, 0]\n",
    "\n",
    "PRED_INDEX = 430\n",
    "y_pred = clean_model_prediction(predictions[PRED_INDEX]) # choose index\n",
    "y_real = clean_model_prediction(y_test[PRED_INDEX])\n",
    "\n",
    "import matplotlib.pyplot as plt\n",
    "plt.plot(y_pred)\n",
    "plt.plot(y_real)\n",
    "# Rescale predictions and true values back to original scale\n",
    "# predictions_rescaled = scaler.inverse_transform(np.concatenate([predictions, np.zeros((predictions.shape[0], scaled_data.shape[1] - 7))], axis=1))[:, :7]\n",
    "# y_test_rescaled = scaler.inverse_transform(np.concatenate([y_test, np.zeros((y_test.shape[0], scaled_data.shape[1] - 7))], axis=1))[:, :7]\n",
    "# \n",
    "# # Show the predictions and the actual values for the next 7 days\n",
    "# print(\"Predictions (next 7 days):\", predictions_rescaled)\n",
    "# print(\"True Values (next 7 days):\", y_test_rescaled)\n",
    "# \n",
    "# \n",
    "# \n",
    "# # Plot predictions vs true values for a specific test sample\n",
    "# plt.figure(figsize=(12, 6))\n",
    "# plt.plot(range(7), y_test_rescaled[0], label='True Bitcoin Price', color='blue')\n",
    "# plt.plot(range(7), predictions_rescaled[0], label='Predicted Bitcoin Price', color='red')\n",
    "# plt.title('Bitcoin Price Prediction for the Next 7 Days')\n",
    "# plt.xlabel('Days')\n",
    "# plt.ylabel('Bitcoin Price (USD)')\n",
    "# plt.legend()\n",
    "# plt.show()"
   ],
   "id": "821037ea1c3bbf72",
   "outputs": [],
   "execution_count": null
  },
  {
   "metadata": {},
   "cell_type": "code",
   "source": [
    "# save model\n",
    "model.save('oracle_v0.3.keras')\n",
    "# save scaler\n",
    "from pickle import dump\n",
    "dump(scaler, open('minmax_scaler.pkl', 'wb'))"
   ],
   "id": "3d40e91f20749f8e",
   "outputs": [],
   "execution_count": null
  },
  {
   "metadata": {},
   "cell_type": "code",
   "source": [
    "last_60_days = scaled_data[-40:].reshape((1, 60, 7))  # Reshape to fit the model input\n",
    "\n",
    "# Predict the next 7 days of Bitcoin price\n",
    "predicted_prices = model.predict(last_60_days)\n",
    "\n",
    "# Rescale the predicted prices back to the original Bitcoin price scale\n",
    "predicted_prices_rescaled = scaler.inverse_transform(np.concatenate([predicted_prices, np.zeros((predicted_prices.shape[0], scaled_data.shape[1] - 7))], axis=1))[:, :7]\n",
    "\n",
    "# Print the predicted prices for the next 7 days\n",
    "print(\"Predicted Bitcoin Prices for the next 7 days:\", predicted_prices_rescaled)\n",
    "\n",
    "# Plot the prediction\n",
    "plt.figure(figsize=(12, 6))\n",
    "plt.plot(range(7), predicted_prices_rescaled[0], label='Predicted Bitcoin Price', color='red')\n",
    "plt.title('Bitcoin Price Prediction for the Next 7 Days')\n",
    "plt.xlabel('Days')\n",
    "plt.ylabel('Bitcoin Price (USD)')\n",
    "plt.legend()\n",
    "plt.show()"
   ],
   "id": "78bf1aec7ad8657f",
   "outputs": [],
   "execution_count": null
  },
  {
   "metadata": {},
   "cell_type": "code",
   "source": "df['bitcoin_price'].plot()",
   "id": "fa1bd50eee675e49",
   "outputs": [],
   "execution_count": null
  },
  {
   "metadata": {},
   "cell_type": "code",
   "source": [
    "a = []\n",
    "for i in range(len(scaled_data)):\n",
    "    a.append(scaled_data[i][0])\n",
    "plt.plot(a)"
   ],
   "id": "152d80741c39e89e",
   "outputs": [],
   "execution_count": null
  }
 ],
 "metadata": {
  "kernelspec": {
   "display_name": "Python 3",
   "language": "python",
   "name": "python3"
  },
  "language_info": {
   "codemirror_mode": {
    "name": "ipython",
    "version": 2
   },
   "file_extension": ".py",
   "mimetype": "text/x-python",
   "name": "python",
   "nbconvert_exporter": "python",
   "pygments_lexer": "ipython2",
   "version": "2.7.6"
  }
 },
 "nbformat": 4,
 "nbformat_minor": 5
}
